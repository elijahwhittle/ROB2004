{
 "cells": [
  {
   "cell_type": "markdown",
   "metadata": {},
   "source": [
    "# ROB2004 Final Project - pick and place objects\n",
    "\n",
    "The goal of this project is to solve a simple manipulation task: picking up objects and moving them in a bowl.\n",
    "\n",
    "## Instructions\n",
    "* Answer all questions in the notebook\n",
    "* You will need to submit on Brightspace: \n",
    "    1. the code you wrote to answer the questions in a Jupyter Notebook. The code should be runnable as is.\n",
    "    2. a 2-3 pages report in pdf format (pdf only) detailing the methodology you followed to answer the questions as well as answers to the questions that require a typeset answer. You may add the plots in the report (does not count for the page limit) or in the Jupyter notebook.\n",
    "* This is an individual project\n",
    "\n",
    "We will use a model of the Frank-Emika Panda robot. This robot has 7 revolute joints and its kinematics is described in the picture below.\n",
    "\n",
    "You will need to install pybullet on your computer. Please reach out as soon as possible for help if you do not know how to do it.\n",
    "\n",
    "<div>\n",
    "<img src=\"./panda.jpg\" width=\"200\"/>\n",
    "</div>"
   ]
  },
  {
   "cell_type": "markdown",
   "metadata": {},
   "source": [
    "# Question\n",
    "\n",
    "Implement a controller using the code skeletong below in order to get the robot to go and pick up the red blocks and drop them in the green bowl. The bowl position is $(-0.3,0.55,0.65)$ (in spatial frame coordinates) and the blocks positions are $(0.35,0.58,0.65)$ and $(0.15,0.67,0.65)$ respectively.\n",
    "\n",
    "<div>\n",
    "<img src=\"./manipulation_scene.jpg\" width=\"300\"/>\n",
    "</div>\n",
    "\n",
    "You are free to use the methods that you want to solve the task, with the following constraints:\n",
    "* You cannot use any external library apart from numpy and scipy\n",
    "* You need to use at least one controller in the end-effector space\n",
    "* You need to generate smooth motions\n",
    "* You need to compensate for the gravity of the robot\n",
    "\n",
    "In your report, describe the controller and justify your choices. Analyze the behavior of the system (include plots of the end-effector trajectories, velocities, joint trajectories, etc as you see fit)."
   ]
  },
  {
   "cell_type": "code",
   "execution_count": null,
   "metadata": {},
   "outputs": [],
   "source": [
    "import numpy as np\n",
    "import time\n",
    "\n",
    "import matplotlib.pyplot as plt\n",
    "\n",
    "from panda import Simulator, PandaRobot\n",
    "\n",
    "np.set_printoptions(precision=4, suppress = True)"
   ]
  },
  {
   "cell_type": "markdown",
   "metadata": {},
   "source": [
    "# Helper functions\n",
    "\n",
    "We provide a set of helper functions (forward kinematics, Jacobians, gravity terms) that can be used to implement the desired controllers. These functions are implemented in the PandaRobot class (in the panda.py file).\n",
    "Examples are shown below:"
   ]
  },
  {
   "cell_type": "code",
   "execution_count": null,
   "metadata": {},
   "outputs": [],
   "source": [
    "# create an instance of the helper class\n",
    "my_robot = PandaRobot()\n",
    "\n",
    "# compute the forward kinematics for an arbitrary joint configuration\n",
    "q = np.random.uniform(-1,1,7)\n",
    "pose = my_robot.FK(np.array([0.,0,0.0,-np.pi/2.,0.,np.pi/2.,0.0]))\n",
    "print(f'the pose of the end-effector for joint configuration\\n\\n {q}\\n\\n is\\n\\n {pose}')"
   ]
  },
  {
   "cell_type": "code",
   "execution_count": null,
   "metadata": {},
   "outputs": [],
   "source": [
    "# we can also get the Jacobian in various frames \n",
    "# it is sufficient to pass the name of the frame as an argument as shown below\n",
    "\n",
    "q = np.random.uniform(-1,1,7)\n",
    "\n",
    "spatial_jacobian = my_robot.get_jacobian(q, 'S')\n",
    "body_jacobian = my_robot.get_jacobian(q, 'B')\n",
    "\n",
    "# we can even get the Jacobian in a frame place at the same position as the end-effector \n",
    "# frame but oriented like the spatial frame\n",
    "oriented_jacobian = my_robot.get_jacobian(q, 'O')\n",
    "\n",
    "print(f'for joint configuration \\n\\n {q} \\n \\n the spatial Jacobian is \\n\\n {spatial_jacobian}\\n\\n')\n",
    "print(f'the body Jacobian is \\n\\n {body_jacobian}\\n\\n')\n",
    "print(f'and the Jacobian in a frame placed at the same position as the end-effector but oriented like the spatial frame is\\n\\n {oriented_jacobian}')"
   ]
  },
  {
   "cell_type": "code",
   "execution_count": null,
   "metadata": {},
   "outputs": [],
   "source": [
    "# finally it is possible to compute the effect of gravity on the joints\n",
    "# this can for example be used to do gravity compensation when controlling the robot\n",
    "\n",
    "q = np.random.uniform(-1,1,7)\n",
    "\n",
    "g = my_robot.g(q)\n",
    "\n",
    "print(f'for joint configuration \\n\\n {q} \\n \\n the gravity force seen on the joints is \\n \\n {g}')"
   ]
  },
  {
   "cell_type": "markdown",
   "metadata": {},
   "source": [
    "# Code Skeleton for the simulation\n",
    "\n",
    "Feel free to change the `run_time` variable to match your needs. The class `Simulator` contains all the code for the simulation. The code skeleton currently implement a simple PD controller in joint space that just keeps a desired current position.\n",
    "\n",
    "Importantly you can control both the joints and the gripper of the robot:\n",
    "* `simulator.send_joint_torque(joint_torques)` sends a vector of dimension 7 setting the torques of the joints\n",
    "* `simulator.gripper_move(gripper_position)` sends a vector of dimension 2 setting the position of the fingers of the gripper. The fingers can have positions from 0 to 0.04cm (you can fully close the gripper by setting `simulator.gripper_move([0,0])` and fully open it by setting `simulator.gripper_move([0.04,0.04)`)"
   ]
  },
  {
   "cell_type": "code",
   "execution_count": null,
   "metadata": {},
   "outputs": [],
   "source": [
    "# here we create a simulation and reset the state of the robot\n",
    "simulator = Simulator()\n",
    "simulator.reset_state([0.,0,0.0,-np.pi/2.,0.,np.pi/2.,0.0])\n",
    "\n",
    "# we create a robot object so we can use its helper functions\n",
    "my_robot = PandaRobot()\n",
    "\n",
    "# duration of the simulation\n",
    "run_time = 30.\n",
    "\n",
    "# simulation time step\n",
    "dt = 0.005\n",
    "num_steps = int(run_time/dt)\n",
    "\n",
    "\n",
    "# we store information\n",
    "ndofs = 7 # number of degrees of freedom (excluding the gripper)\n",
    "measured_positions = np.zeros([num_steps,ndofs])\n",
    "measured_velocities = np.zeros_like(measured_positions)\n",
    "desired_torques = np.zeros_like(measured_positions)\n",
    "desired_positions = np.zeros_like(measured_positions)\n",
    "desired_velocities = np.zeros_like(measured_positions)\n",
    "time = np.zeros([num_steps])\n",
    "\n",
    "\n",
    "### this is the main control loop\n",
    "for i in range(num_steps):\n",
    "    # get the current time and save it\n",
    "    time[i] = dt * i\n",
    "    \n",
    "    # we get the position and velocities of the joints\n",
    "    q, dq = simulator.get_state()\n",
    "    measured_positions[i,:] = q\n",
    "    measured_velocities[i,:] = dq\n",
    "    \n",
    "    ## controller: TODO HERE IMPLEMENT YOUR CONTROLLER TO SOLVE THE TASK\n",
    "    ## you will need to replace the naive PD controller implemented below\n",
    "\n",
    "    # desired joint positions and velocities\n",
    "    q_des = np.array([0.,0,0.0,-np.pi/2.,0.,np.pi/2,0.0])\n",
    "    dq_des = np.zeros([7])\n",
    "    \n",
    "    # we save the desired positions/velocities for later plotting \n",
    "    desired_positions[i,:] = q_des\n",
    "    desired_velocities[i,:] = dq_des\n",
    "    \n",
    "    ##PD controller\n",
    "    # the PD gains\n",
    "    P = np.array([100., 100., 100., 100., 100., 100., 50.])\n",
    "    D = np.array([10.,10,10,10,10,10,1.])\n",
    "\n",
    "    error = q_des - q # the position error for all the joints\n",
    "    d_error = dq_des-dq # the velocity error for all the joints\n",
    "    \n",
    "    \n",
    "    # we compute the desired torques as a PD controller\n",
    "    joint_torques = np.diag(P) @ error + np.diag(D) @ d_error + my_robot.g(q)\n",
    "    \n",
    "    # we start by closing the gripper and then open it after 5 seconds\n",
    "    gripper_position = [0,0]\n",
    "    if time[i] > 5.0:\n",
    "        gripper_position = [0.04, 0.04]\n",
    "    \n",
    "    # we send them to the robot and do one simulation step\n",
    "    simulator.send_joint_torque(joint_torques)\n",
    "    simulator.gripper_move(gripper_position)\n",
    "    simulator.step()"
   ]
  }
 ],
 "metadata": {
  "kernelspec": {
   "display_name": "Python 3 (ipykernel)",
   "language": "python",
   "name": "python3"
  },
  "language_info": {
   "codemirror_mode": {
    "name": "ipython",
    "version": 3
   },
   "file_extension": ".py",
   "mimetype": "text/x-python",
   "name": "python",
   "nbconvert_exporter": "python",
   "pygments_lexer": "ipython3",
   "version": "3.11.2"
  }
 },
 "nbformat": 4,
 "nbformat_minor": 4
}
